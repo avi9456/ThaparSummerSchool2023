{
  "nbformat": 4,
  "nbformat_minor": 0,
  "metadata": {
    "colab": {
      "provenance": [],
      "toc_visible": true,
      "authorship_tag": "ABX9TyMSPFxWnfetqvV2DdIEPsLs",
      "include_colab_link": true
    },
    "kernelspec": {
      "name": "python3",
      "display_name": "Python 3"
    },
    "language_info": {
      "name": "python"
    }
  },
  "cells": [
    {
      "cell_type": "markdown",
      "metadata": {
        "id": "view-in-github",
        "colab_type": "text"
      },
      "source": [
        "<a href=\"https://colab.research.google.com/github/avi9456/ThaparSummerSchool2023/blob/master/Assignment-02%3A%20Challenge%20Question.ipynb\" target=\"_parent\"><img src=\"https://colab.research.google.com/assets/colab-badge.svg\" alt=\"Open In Colab\"/></a>"
      ]
    },
    {
      "cell_type": "code",
      "execution_count": 3,
      "metadata": {
        "colab": {
          "base_uri": "https://localhost:8080/"
        },
        "id": "jle8qtR_6NVA",
        "outputId": "72ffddb0-9ff9-4d65-8b7a-eabcee2c1bd4"
      },
      "outputs": [
        {
          "output_type": "stream",
          "name": "stdout",
          "text": [
            "[1, 2, 3, 'Aman', 'Ram', 'shayam']\n"
          ]
        }
      ],
      "source": [
        "L = [\"Ram\",1,\"shayam\",2,\"Aman\",3]\n",
        "l1=[]\n",
        "l2=[]\n",
        "for i in L:\n",
        "  try:\n",
        "    ele = int(i)\n",
        "    l1.append(ele)\n",
        "  except:\n",
        "    l2.append(i)\n",
        "l1.sort()\n",
        "l2.sort()\n",
        "L=l1+l2\n",
        "print(L)"
      ]
    }
  ]
}